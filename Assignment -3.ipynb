{
 "cells": [
  {
   "cell_type": "code",
   "execution_count": 1,
   "metadata": {},
   "outputs": [
    {
     "name": "stdout",
     "output_type": "stream",
     "text": [
      "Enter the probability of A: 11/36\n",
      "Enter the probability of B: 6/36\n",
      "Enter the probability of A by B: 2/36\n",
      "1/33\n"
     ]
    }
   ],
   "source": [
    "# QUestion 1\n",
    "from fractions import Fraction as f \n",
    "def prob(a,b,aob):\n",
    "    return aob*(b/a)\n",
    "a=f(input(\"Enter the probability of A: \"))\n",
    "b=f(input(\"Enter the probability of B: \"))\n",
    "aob=f(input(\"Enter the probability of A by B: \"))\n",
    "print(prob(a,b,aob))"
   ]
  },
  {
   "cell_type": "code",
   "execution_count": 2,
   "metadata": {},
   "outputs": [
    {
     "name": "stdout",
     "output_type": "stream",
     "text": [
      "Enter no. of white balls in bag 1 : 4\n",
      "Enter no. of black balls in bag 1 : 6\n",
      "Enter no. of white balls in bag 2 : 4\n",
      "Enter no. of black balls in bag 2 : 3\n",
      "7/12\n"
     ]
    }
   ],
   "source": [
    "#Question 2\n",
    "from fractions import Fraction as f \n",
    "def prob(b1,b2,t1,t2):\n",
    "    a=(f(0.5)*f(b1,t1))/((f(0.5)*f(b1,t1)+(f(0.5)*f(b2,t2))))\n",
    "    return(a)\n",
    "           \n",
    "w1=int(input(\"Enter no. of white balls in bag 1 : \"))\n",
    "b1=int(input(\"Enter no. of black balls in bag 1 : \"))\n",
    "t1=w1+b1\n",
    "w2=int(input(\"Enter no. of white balls in bag 2 : \"))\n",
    "b2=int(input(\"Enter no. of black balls in bag 2 : \"))\n",
    "t2=w2+b2\n",
    "print(prob(b1,b2,t1,t2))\n",
    "           "
   ]
  },
  {
   "cell_type": "code",
   "execution_count": 4,
   "metadata": {},
   "outputs": [
    {
     "name": "stdout",
     "output_type": "stream",
     "text": [
      "Enter the fraction of truth: 2/3\n",
      "Enter the probability of getting required outcome from a dice: 1/6\n",
      "2/7\n"
     ]
    }
   ],
   "source": [
    "# Question 3\n",
    "from fractions import Fraction as f\n",
    "def prob(a,b,c,d):\n",
    "        return (b*a)/((b*a)+(c*d))\n",
    "a=f(input(\"Enter the fraction of truth: \"))\n",
    "b=f(input(\"Enter the probability of getting required outcome from a dice: \"))\n",
    "c=1-b\n",
    "d=1-a\n",
    "print(prob(a,b,c,d))"
   ]
  },
  {
   "cell_type": "code",
   "execution_count": null,
   "metadata": {},
   "outputs": [],
   "source": []
  }
 ],
 "metadata": {
  "kernelspec": {
   "display_name": "Python 3",
   "language": "python",
   "name": "python3"
  },
  "language_info": {
   "codemirror_mode": {
    "name": "ipython",
    "version": 3
   },
   "file_extension": ".py",
   "mimetype": "text/x-python",
   "name": "python",
   "nbconvert_exporter": "python",
   "pygments_lexer": "ipython3",
   "version": "3.7.1"
  }
 },
 "nbformat": 4,
 "nbformat_minor": 2
}
